{
 "cells": [
  {
   "cell_type": "code",
   "execution_count": null,
   "id": "4f878cfc-c812-42e2-a84d-3fdf4a231768",
   "metadata": {},
   "outputs": [],
   "source": []
  },
  {
   "cell_type": "code",
   "execution_count": null,
   "id": "7450e236-1bde-466f-a718-ccc8dfcd0672",
   "metadata": {},
   "outputs": [],
   "source": [
    "pip install pyecharts"
   ]
  },
  {
   "cell_type": "code",
   "execution_count": 67,
   "id": "99d77454-77d3-4acf-acf1-b9be90dc53b5",
   "metadata": {},
   "outputs": [],
   "source": [
    "from pyecharts.charts import Pie\n",
    "import pyecharts.options as opts"
   ]
  },
  {
   "cell_type": "code",
   "execution_count": 68,
   "id": "9f2f2fae-7ac0-461f-bde3-b2e84688c95a",
   "metadata": {},
   "outputs": [],
   "source": [
    "from pyecharts.charts import Bar\n",
    "from pyecharts.charts import Line"
   ]
  },
  {
   "cell_type": "code",
   "execution_count": 69,
   "id": "4c115016-9e44-4d93-b875-645d9ed19b80",
   "metadata": {},
   "outputs": [
    {
     "data": {
      "text/plain": [
       "[70, 10, 20]"
      ]
     },
     "execution_count": 69,
     "metadata": {},
     "output_type": "execute_result"
    }
   ],
   "source": [
    "population = 100\n",
    "vaccinationsInitiated = 10\n",
    "vaccinationsCompleted = 20\n",
    "NotVaccinated = population - vaccinationsInitiated - vaccinationsCompleted\n",
    "attr= [\"NotVaccinated\",\"vaccinationsInitiated\",\"vaccinationsCompleted\"]\n",
    "v=[NotVaccinated,vaccinationsInitiated,vaccinationsCompleted]\n",
    "v"
   ]
  },
  {
   "cell_type": "code",
   "execution_count": 70,
   "id": "4c440661-9c93-4b66-94d2-ac1c52b31440",
   "metadata": {},
   "outputs": [
    {
     "data": {
      "text/plain": [
       "'/common/home/jh1444/CS543/pie.html'"
      ]
     },
     "execution_count": 70,
     "metadata": {},
     "output_type": "execute_result"
    }
   ],
   "source": [
    "pie = (\n",
    "    Pie()\n",
    "    .add(\"\", [list(z) for z in zip(attr, v)])\n",
    "    .set_global_opts(title_opts=opts.TitleOpts(title=\"Pie - Vaccination\"))\n",
    "    .set_series_opts(label_opts=opts.LabelOpts(formatter=\"{b}: {c}\"))\n",
    ")\n",
    "pie.render(path=\"pie.html\")"
   ]
  },
  {
   "cell_type": "code",
   "execution_count": 71,
   "id": "06f52365-a485-4f6f-a4aa-57dfe8ebc306",
   "metadata": {},
   "outputs": [],
   "source": [
    "cases=[10,5,6,0,23,10,3]\n",
    "date=[\"01/Nov/2021\",\"02/Nov/2021\",\"03/Nov/2021\",\"04/Nov/2021\",\"05/Nov/2021\",\"06/Nov/2021\",\"07/Nov/2021\"]"
   ]
  },
  {
   "cell_type": "code",
   "execution_count": 72,
   "id": "9649cb34-ae52-4dd8-b7b4-56e8d431f557",
   "metadata": {},
   "outputs": [
    {
     "data": {
      "text/plain": [
       "'/common/home/jh1444/CS543/line.html'"
      ]
     },
     "execution_count": 72,
     "metadata": {},
     "output_type": "execute_result"
    }
   ],
   "source": [
    "line = (\n",
    "    Line()\n",
    "    .add_xaxis(date)\n",
    "    .add_yaxis('cases number', cases)\n",
    "    .set_global_opts(title_opts=opts.TitleOpts(title=\"Line\"))\n",
    ")\n",
    "line.render(path=\"line.html\")"
   ]
  },
  {
   "cell_type": "code",
   "execution_count": 73,
   "id": "b275f5ac-92ee-4824-ab6d-2a4177218221",
   "metadata": {},
   "outputs": [
    {
     "data": {
      "text/plain": [
       "[10, 20, 15, 5, 4]"
      ]
     },
     "execution_count": 73,
     "metadata": {},
     "output_type": "execute_result"
    }
   ],
   "source": [
    "lvl=[\"level 1\",\"level 2\",\"level 3\",\"level 4\",\"level 5\"]\n",
    "lvlnumber=[10, 20, 15, 5, 4]"
   ]
  },
  {
   "cell_type": "code",
   "execution_count": 75,
   "id": "e8561e31-45c6-47f2-997a-19110e7cddeb",
   "metadata": {},
   "outputs": [
    {
     "data": {
      "text/plain": [
       "'/common/home/jh1444/CS543/Histogram.html'"
      ]
     },
     "execution_count": 75,
     "metadata": {},
     "output_type": "execute_result"
    }
   ],
   "source": [
    "bar = (\n",
    "    Bar()\n",
    "    .add_xaxis(lvl)\n",
    "    .add_yaxis('# of states in each level', lvlnumber)\n",
    "    .set_global_opts(title_opts=opts.TitleOpts(title=\"Histogram\"))\n",
    ")\n",
    "line.render(path=\"Histogram.html\")"
   ]
  },
  {
   "cell_type": "code",
   "execution_count": null,
   "id": "1e91cc5c-876e-4e3c-bd99-5945ff631b59",
   "metadata": {},
   "outputs": [],
   "source": []
  }
 ],
 "metadata": {
  "kernelspec": {
   "display_name": "Python 3.8",
   "language": "python",
   "name": "python3"
  },
  "language_info": {
   "codemirror_mode": {
    "name": "ipython",
    "version": 3
   },
   "file_extension": ".py",
   "mimetype": "text/x-python",
   "name": "python",
   "nbconvert_exporter": "python",
   "pygments_lexer": "ipython3",
   "version": "3.8.10"
  }
 },
 "nbformat": 4,
 "nbformat_minor": 5
}
